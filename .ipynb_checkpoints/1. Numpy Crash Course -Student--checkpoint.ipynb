{
 "cells": [
  {
   "attachments": {
    "numpy.png": {
     "image/png": "[encoded data removed]"
    }
   },
   "cell_type": "markdown",
   "id": "dceec789",
   "metadata": {},
   "source": [
    "# Numpy\n",
    "\n",
    "## 1. Introduction\n",
    "\n",
    "Numpy is the most popular Python library used for scientific computing, data analysis and Machine Learning. It provides support for large, multi-dimensional arrays and matrices, along with a collection of mathematical functions to operate on these arrays.\n",
    "\n",
    "![numpy.png](attachment:numpy.png)\n",
    "\n",
    "As you may know, Machine Learning foundations are based on <strong>Linear Algebra</strong> concepts, and Linear Algebra uses widely arrays and matrices. Therefore, well-known Machine Learning frameworks, such as <u>Tensorflow</u> or <u>Pytorch</u> rely on Numpy library for matrices handling.\n",
    "\n",
    "Some of the key features of Numpy include:\n",
    "\n",
    " * ndarray: Numpy's main feature is the <strong>ndarray</strong> (n-dimensional array) object, which allows for efficient storage and manipulation of arrays and matrices of any dimensionality. These arrays can contain elements of any data type, including integers, floats, and complex numbers.\n",
    "\n",
    " * Mathematical functions: Numpy provides a wide range of mathematical functions that can be applied to the elements of the arrays, such as trigonometric functions, logarithms, and exponential functions.\n",
    " \n",
    " * The <strong>broadcasting</strong> of array is a very useful concept when we work with arrays of uneven shapes. It broadcasts the shape of smaller arrays according to the larger ones. The broadcasting of arrays has some rules and limitations in its implementation. For broadcasting one of the arrays needs to be onedimensional. There are also a few other limitations on the shape of the arrays.\n",
    " \n",
    " * We can use the functions in NumPy to work with code written in <u>other languages</u>. We can hence integrate the functionalities available in various programming languages (e.g. C or C++). This helps implement inter-platform functions."
   ]
  },
  {
   "cell_type": "markdown",
   "id": "4f96ba53",
   "metadata": {},
   "source": [
    "## 2. Installation\n",
    "\n",
    "For those who haven't installed Numpy yet. Please type the following command in your Conda console\n",
    "\n",
    "<i>(my_env) $ conda install numpy</i>\n",
    "\n",
    "Please check you have properly installed Numpy typing the following command\n",
    "\n",
    "<i>(my_env) $conda list numpy</i>\n",
    "\n",
    "Name &emsp; Version &emsp; Build &emsp; &emsp; &emsp; &emsp; &emsp; &nbsp; Channel\n",
    "\n",
    "numpy &emsp; 1.23.3 &emsp; py39hba7629e_0 &emsp; conda-forge"
   ]
  },
  {
   "cell_type": "markdown",
   "id": "4174185e",
   "metadata": {},
   "source": [
    "## 3. First steps with Numpy\n",
    "\n",
    "Once you've installed Numpy library, don't forget to import it!!"
   ]
  },
  {
   "cell_type": "code",
   "execution_count": 1,
   "id": "c93092b7",
   "metadata": {},
   "outputs": [],
   "source": [
    "import numpy as np"
   ]
  },
  {
   "cell_type": "markdown",
   "id": "7564b90e",
   "metadata": {},
   "source": [
    "### My First Numpy array\n",
    "\n",
    "<strong>Exercise 1.</strong> Create your first Numpy Array that contains a list with the following numbers: 1,2,3,4,5"
   ]
  },
  {
   "cell_type": "code",
   "execution_count": 2,
   "id": "99705fec",
   "metadata": {},
   "outputs": [
    {
     "name": "stdout",
     "output_type": "stream",
     "text": [
      "[1 2 3 4 5]\n"
     ]
    }
   ],
   "source": [
    "### Your code starts here ###\n",
    "### Don't forget to uncomment the following line to make it run! \n",
    "\n",
    "# my_first_array = \n",
    "\n",
    "### Your code ends here ###\n",
    "\n",
    "print (my_first_array)"
   ]
  },
  {
   "cell_type": "markdown",
   "id": "5e710f6f",
   "metadata": {},
   "source": [
    "<strong>Exercise 2.</strong> You can also create a Numpy Array from a python list. Convert the list name my_python_list to a numpy array"
   ]
  },
  {
   "cell_type": "code",
   "execution_count": 3,
   "id": "26818c50",
   "metadata": {},
   "outputs": [
    {
     "name": "stdout",
     "output_type": "stream",
     "text": [
      "[1 2 3 4 5]\n"
     ]
    }
   ],
   "source": [
    "my_python_list = [1,2,3,4,5]\n",
    "\n",
    "### Your code starts here ###\n",
    "### Don't forget to uncomment the following line to make it run! \n",
    "\n",
    "# my_array_from_list = \n",
    "\n",
    "### Your code ends here ###\n",
    "\n",
    "print (my_array_from_list)"
   ]
  },
  {
   "cell_type": "markdown",
   "id": "1591303a",
   "metadata": {},
   "source": [
    "<strong>Exercise 3</strong>. Let's create a 2-dimensional matrix, this type of matrix is widely used in Machine Learning. You can make it by converting a python list or by setting it up directly in Numpy\n",
    "\n"
   ]
  },
  {
   "cell_type": "code",
   "execution_count": 4,
   "id": "213e9a23",
   "metadata": {},
   "outputs": [
    {
     "name": "stdout",
     "output_type": "stream",
     "text": [
      "[[1 2]\n",
      " [3 4]]\n"
     ]
    }
   ],
   "source": [
    "### Your code starts here ###\n",
    "\n",
    "### Don't forget to uncomment the following line to make it run! \n",
    "\n",
    "# my_two_dim_array = \n",
    "\n",
    "### Your code ends here ###\n",
    "\n",
    "print (my_two_dim_array)"
   ]
  },
  {
   "cell_type": "markdown",
   "id": "a0393828",
   "metadata": {},
   "source": [
    "<strong>Exercise 4</strong>. It's time to get used to n-dimensional matrix. They are very common in Machine Learning.  5-dimensional matrix is particulary used in convolutional networks. \n",
    "Write you own 5-dimensional matrix. For example a matrix that has the following dimensions: (2,2,2,2,2)"
   ]
  },
  {
   "cell_type": "code",
   "execution_count": 5,
   "id": "03fbb361",
   "metadata": {},
   "outputs": [
    {
     "name": "stdout",
     "output_type": "stream",
     "text": [
      "(2, 2, 2, 2, 2)\n"
     ]
    }
   ],
   "source": [
    "### Your code starts here ###\n",
    "\n",
    "### Don't forget to uncomment the following line to make it run! \n",
    "\n",
    "# my_five_dim_array = \n",
    "\n",
    "### Your code ends here ###\n",
    "\n",
    "print(my_five_dim_array.shape)"
   ]
  },
  {
   "cell_type": "markdown",
   "id": "20ed50ee",
   "metadata": {},
   "source": [
    "## Self-initialized arrays\n",
    "\n",
    "If you have managed to type your own 5-dimensional matrix, you deserve the Fields Medal :). It's a mess to deal with such a huge amount of brackets. Let Numpy deal with those tedious tasks. Numpy provides us a complete toolbox to build matrices. \n",
    "We call them array creation routines, they are widely used in Machine Learning, overall the random ones. Let's play with them"
   ]
  },
  {
   "cell_type": "markdown",
   "id": "fd3654d5",
   "metadata": {},
   "source": [
    "<strong>Exercise 5.</strong> Create an 3-dimensional empty matrix. For example a (3,3,3) empty matrix"
   ]
  },
  {
   "cell_type": "code",
   "execution_count": 6,
   "id": "efc06874",
   "metadata": {},
   "outputs": [
    {
     "name": "stdout",
     "output_type": "stream",
     "text": [
      "[[[6.23042070e-307 4.67296746e-307 1.69121096e-306]\n",
      "  [8.90098127e-307 1.33508845e-306 1.24610994e-306]\n",
      "  [8.45559303e-307 7.56593017e-307 1.95821439e-306]]\n",
      "\n",
      " [[9.79111946e-307 1.11261027e-306 1.11261502e-306]\n",
      "  [1.42410839e-306 7.56597770e-307 6.23059726e-307]\n",
      "  [1.42419530e-306 7.56599128e-307 1.42417629e-306]]\n",
      "\n",
      " [[8.45593934e-307 6.89805151e-307 1.11260144e-306]\n",
      "  [6.89812281e-307 1.42418172e-306 1.37961641e-306]\n",
      "  [1.39071445e-307 8.45610231e-307 3.75597400e-317]]]\n"
     ]
    }
   ],
   "source": [
    "### Your code starts here ###\n",
    "\n",
    "### Don't forget to uncomment the following line to make it run! \n",
    "\n",
    "# my_empty_array = \n",
    "\n",
    "### Your code ends here ###\n",
    "\n",
    "print(my_empty_array)"
   ]
  },
  {
   "cell_type": "markdown",
   "id": "c7a3a275",
   "metadata": {},
   "source": [
    "Ok, you may have seen not an emty matrix but a matrix plenty of really tiny numbers (i.e 1e-304). It seems that it's more useful \n",
    "to have a matrix plenty of 0.0\n",
    "\n",
    "<strong>Exercise 6.</strong> Set up a 4-dimension matrix with all Zeros (choose your number of row and columns)"
   ]
  },
  {
   "cell_type": "code",
   "execution_count": 7,
   "id": "0aea628c",
   "metadata": {},
   "outputs": [
    {
     "name": "stdout",
     "output_type": "stream",
     "text": [
      "[[[0. 0.]\n",
      "  [0. 0.]]\n",
      "\n",
      " [[0. 0.]\n",
      "  [0. 0.]]]\n"
     ]
    }
   ],
   "source": [
    "### Your code starts here ###\n",
    "### Don't forget to uncomment the following line to make it run! \n",
    "\n",
    "# my_zeros_array = \n",
    "\n",
    "### Your code ends here ###\n",
    "\n",
    "print(my_zeros_array)"
   ]
  },
  {
   "cell_type": "markdown",
   "id": "a574a1cf",
   "metadata": {},
   "source": [
    "I've said all Zeros!, why does it include a '.' after the 0?. Ok it has to do with the type of number Python uses to fill the matrix up. The number 0. means that Python has used a float number. Let's fill the matrix up with 0 but with integer type. \n",
    "\n",
    "<strong>Exercise 7</strong>. Set up a 4-dimension matrix with all Zeros (choose your number of row and columns)"
   ]
  },
  {
   "cell_type": "code",
   "execution_count": 8,
   "id": "2f9c7a1a",
   "metadata": {},
   "outputs": [
    {
     "name": "stdout",
     "output_type": "stream",
     "text": [
      "[[[0 0]\n",
      "  [0 0]]\n",
      "\n",
      " [[0 0]\n",
      "  [0 0]]]\n"
     ]
    }
   ],
   "source": [
    "### Your code starts here ###\n",
    "### Don't forget to uncomment the following line to make it run! \n",
    "\n",
    "# my_zeros_int_array = \n",
    "\n",
    "### Your code ends here ###\n",
    "\n",
    "print(my_zeros_int_array)"
   ]
  },
  {
   "cell_type": "markdown",
   "id": "593413f7",
   "metadata": {},
   "source": [
    "It's highly recommendable to deal with the same type of numbers when working with generally Machine Learning and specifically with Numpy\n",
    "\n",
    "Please take a while to read the information included in the following link to check out all the types of number Numpy deals with\n",
    "\n",
    "<a>https://numpy.org/doc/stable/user/basics.types.html</a>"
   ]
  },
  {
   "cell_type": "markdown",
   "id": "764d2f4c",
   "metadata": {},
   "source": [
    "Let's continue now with the Matrix creation routines. \n",
    "\n",
    "<strong>Exercise 8.</strong> Set up an Identity Matrix with 4 rows and 4 columns (number type as float32). If you have any doubt about what an Identity Matrix is, please review your Linear Algebra notes!\n"
   ]
  },
  {
   "cell_type": "code",
   "execution_count": 9,
   "id": "c689ab0f",
   "metadata": {},
   "outputs": [
    {
     "name": "stdout",
     "output_type": "stream",
     "text": [
      "[[1. 0. 0. 0.]\n",
      " [0. 1. 0. 0.]\n",
      " [0. 0. 1. 0.]\n",
      " [0. 0. 0. 1.]]\n"
     ]
    }
   ],
   "source": [
    "### Your code starts here ###\n",
    "### Don't forget to uncomment the following line to make it run! \n",
    "\n",
    "# my_identity_array = \n",
    "\n",
    "### Your code ends here ###\n",
    "\n",
    "print(my_identity_array)"
   ]
  },
  {
   "cell_type": "markdown",
   "id": "f4b0198e",
   "metadata": {},
   "source": [
    "Sometimes it's useful to create a matrix with the same shape as a given one. \n",
    "\n",
    "<strong>Exercise 9.</strong> Create a matrix with all zeros with the same shape as the give one in the the exercise"
   ]
  },
  {
   "cell_type": "code",
   "execution_count": 10,
   "id": "cedac0b3",
   "metadata": {},
   "outputs": [
    {
     "name": "stdout",
     "output_type": "stream",
     "text": [
      "[[0. 0. 0.]\n",
      " [0. 0. 0.]\n",
      " [0. 0. 0.]]\n"
     ]
    }
   ],
   "source": [
    "my_array = np.array([[1,2,3],[4,5,6],[7,8,9]])\n",
    "\n",
    "### Your code starts here ###\n",
    "### Don't forget to uncomment the following line to make it run! \n",
    "\n",
    "# my_zero_matrix = \n",
    "\n",
    "### Your code ends here ###\n",
    "\n",
    "print(my_zero_matrix)"
   ]
  },
  {
   "cell_type": "markdown",
   "id": "e28e9c1e",
   "metadata": {},
   "source": [
    "Let's explore a couple useful creation tools\n",
    "\n",
    "<strong>Exercise 10.</strong> Create a 1-dimensional array with evenly spaced numbers between 0 and 10, for example in 20 spaces."
   ]
  },
  {
   "cell_type": "code",
   "execution_count": 11,
   "id": "245d6a74",
   "metadata": {},
   "outputs": [
    {
     "name": "stdout",
     "output_type": "stream",
     "text": [
      "[ 0.          0.52631579  1.05263158  1.57894737  2.10526316  2.63157895\n",
      "  3.15789474  3.68421053  4.21052632  4.73684211  5.26315789  5.78947368\n",
      "  6.31578947  6.84210526  7.36842105  7.89473684  8.42105263  8.94736842\n",
      "  9.47368421 10.        ]\n"
     ]
    }
   ],
   "source": [
    "### Your code starts here ###\n",
    "### Don't forget to uncomment the following line to make it run! \n",
    "\n",
    "# my_spaced_array = \n",
    "\n",
    "### Your code ends here ###\n",
    "\n",
    "print(my_spaced_array)"
   ]
  },
  {
   "cell_type": "markdown",
   "id": "b1050a36",
   "metadata": {},
   "source": [
    "<strong>Exercise 11.</strong> Create a 1-dimensional array with evenly spaced numbers between 0 and 10, there will be two steps between numbers"
   ]
  },
  {
   "cell_type": "code",
   "execution_count": 13,
   "id": "5c86aad5",
   "metadata": {},
   "outputs": [
    {
     "name": "stdout",
     "output_type": "stream",
     "text": [
      "[0 2 4 6 8]\n"
     ]
    }
   ],
   "source": [
    "### Your code starts here ###\n",
    "### Don't forget to uncomment the following line to make it run! \n",
    "\n",
    "# my_spaced_array = \n",
    "\n",
    "### Your code ends here ###\n",
    "\n",
    "print(my_spaced_array)"
   ]
  },
  {
   "cell_type": "markdown",
   "id": "e8abaf79",
   "metadata": {},
   "source": [
    "### Random initialization\n",
    "\n",
    "Machine Learning models seldom use all-zeros or all-ones initialization. Matrix random initialization has proven to be more effective.\n",
    "\n",
    "Hey! This is not a math bootcamp. If you are here, you should have a background in statistics. Please visit the following link to review random distributions:\n",
    "\n",
    "<a>https://towardsdatascience.com/probability-distributions-to-be-aware-of-for-data-science-with-code-c4a6bb8b0e9a</a>\n",
    "\n",
    "Let's dive into random initialization."
   ]
  },
  {
   "cell_type": "markdown",
   "id": "508f3a7d",
   "metadata": {},
   "source": [
    "<strong>Exercise 12.</strong> Create a 3-dimensional matrix with 3 rows and 3 columns and populate it with random samples from a uniform distribution over [0, 1)."
   ]
  },
  {
   "cell_type": "code",
   "execution_count": 38,
   "id": "994f3f4b",
   "metadata": {},
   "outputs": [
    {
     "name": "stdout",
     "output_type": "stream",
     "text": [
      "[[0.18242851 0.71767523 0.99979371]\n",
      " [0.51968035 0.26339614 0.38524931]\n",
      " [0.15787649 0.09108738 0.23425837]]\n"
     ]
    }
   ],
   "source": [
    "### Your code starts here ###\n",
    "### Don't forget to uncomment the following line to make it run! \n",
    "\n",
    "# my_random_array = \n",
    "\n",
    "### Your code ends here ###\n",
    "\n",
    "print(my_random_array)"
   ]
  },
  {
   "cell_type": "markdown",
   "id": "d5e0d37d",
   "metadata": {},
   "source": [
    "For certain Machine Learning models, vector with only 0 and 1 values are useful. Let's learn how to create 0,1 random vectors\n",
    "\n",
    "<strong>Exercise 13.</strong> Set up a 1-dimensional vector that randomly contains 50 values that can be 0 or 1."
   ]
  },
  {
   "cell_type": "code",
   "execution_count": 40,
   "id": "ad40a6fb",
   "metadata": {},
   "outputs": [
    {
     "name": "stdout",
     "output_type": "stream",
     "text": [
      "[1 1 0 1 1 1 1 1 0 0 0 0 0 1 1 0 1 0 1 1 0 0 1 0 0 1 1 1 1 1 0 1 0 1 0 0 1\n",
      " 1 0 0 1 0 0 1 0 0 1 1 0 0]\n"
     ]
    }
   ],
   "source": [
    "### Your code starts here ###\n",
    "### Don't forget to uncomment the following line to make it run! \n",
    "\n",
    "# my_binary_array = \n",
    "\n",
    "### Your code ends here ###\n",
    "\n",
    "print(my_binary_array)"
   ]
  },
  {
   "cell_type": "markdown",
   "id": "56607497",
   "metadata": {},
   "source": [
    "A common random distribution is the Gaussian or normal distribution. Let's see how to do it\n",
    "\n",
    "<strong>Exercise 14.</strong> Initialize a (5,5) matrix with numbers that follow the Gaussian distribution"
   ]
  },
  {
   "cell_type": "code",
   "execution_count": 14,
   "id": "a05e6925",
   "metadata": {},
   "outputs": [
    {
     "name": "stdout",
     "output_type": "stream",
     "text": [
      "[[ 1.51433486 -1.71513234  0.76438328  1.25907853 -0.60876449]\n",
      " [ 0.46968402  0.87021791  1.57356703  0.85373697  0.36117658]\n",
      " [-2.56555212 -2.08815255  0.63682079 -0.13629965  0.96894816]\n",
      " [ 0.59751454 -1.74952386  2.47984218  0.72368848  0.71688595]\n",
      " [-0.62039928 -0.74170151  0.94706258 -1.06093157 -0.72098218]]\n"
     ]
    }
   ],
   "source": [
    "### Your code starts here ###\n",
    "### Don't forget to uncomment the following line to make it run! \n",
    "\n",
    "# my_gaussian_matrix = \n",
    "\n",
    "### Your code ends here ###\n",
    "\n",
    "print(my_gaussian_matrix)"
   ]
  },
  {
   "cell_type": "markdown",
   "id": "87eb5099",
   "metadata": {},
   "source": [
    "If you want to specify the mean and the standard deviation of the Gaussian distribution, you can do it!.\n",
    "\n",
    "<strong>Exercise 15.</strong> Initialize a (3,3) matrix with numbers that follow the Gaussian distribution with value 3 as mean and 1.75 as standard deviation"
   ]
  },
  {
   "cell_type": "code",
   "execution_count": 44,
   "id": "fbd971ac",
   "metadata": {},
   "outputs": [
    {
     "name": "stdout",
     "output_type": "stream",
     "text": [
      "[[2.17389605 0.45728809 3.3621008  7.06819688 3.24026355]\n",
      " [3.46054543 3.66655091 2.75567417 4.87462403 2.56158905]\n",
      " [5.55744654 3.98839224 6.01325704 2.5076876  1.02626191]\n",
      " [3.54232772 4.39654662 4.29548337 3.70916929 4.56877686]\n",
      " [0.79063154 3.46403725 6.74773196 2.63080126 1.80903455]]\n"
     ]
    }
   ],
   "source": [
    "### Your code starts here ###\n",
    "### Don't forget to uncomment the following line to make it run! \n",
    "\n",
    "# my_gaussian_matrix = \n",
    "\n",
    "### Your code ends here ###\n",
    "\n",
    "print(my_gaussian_matrix)"
   ]
  },
  {
   "cell_type": "markdown",
   "id": "756b6674",
   "metadata": {},
   "source": [
    "Let's see a chart of a normal distribution\n",
    "\n",
    "<strong>Exercise 16.</strong> Initialize a 1-dim matrix with 100000 numbers that follow the Gaussian distribution.\n",
    "\n",
    "The code to plot the distribution is included "
   ]
  },
  {
   "cell_type": "code",
   "execution_count": 74,
   "id": "26de3027",
   "metadata": {},
   "outputs": [
    {
     "data": {
      "text/plain": [
       "<matplotlib.patches.StepPatch at 0x2222aa086d0>"
      ]
     },
     "execution_count": 74,
     "metadata": {},
     "output_type": "execute_result"
    },
    {
     "data": {
      "image/png": "[encoded data removed]",
      "text/plain": [
       "<Figure size 640x480 with 1 Axes>"
      ]
     },
     "metadata": {},
     "output_type": "display_data"
    }
   ],
   "source": [
    "### Your code starts here ###\n",
    "### Don't forget to uncomment the following line to make it run! \n",
    "\n",
    "# my_gaussian_matrix = \n",
    "\n",
    "### Your code ends here ###\n",
    "\n",
    "import matplotlib.pyplot as plt\n",
    "counts, bins = np.histogram(my_gaussian_matrix,150,density=True)\n",
    "plt.stairs(counts, bins)\n"
   ]
  },
  {
   "cell_type": "markdown",
   "id": "f987b53d",
   "metadata": {},
   "source": [
    "In finance, Pareto distribution is commonly used. Take a while to understand the difference between a Gaussian distribution and a Pareto one.\n",
    "\n",
    "<strong>Exercise 17.</strong> Set up a 500 samples that follow a Pareto distribution with shape equals 2\n",
    "\n",
    "Now you should know how to draw an historgram of a distribution. Include the code to do show."
   ]
  },
  {
   "cell_type": "code",
   "execution_count": 85,
   "id": "efd6bd22",
   "metadata": {
    "scrolled": true
   },
   "outputs": [
    {
     "data": {
      "text/plain": [
       "<matplotlib.patches.StepPatch at 0x2222be14910>"
      ]
     },
     "execution_count": 85,
     "metadata": {},
     "output_type": "execute_result"
    },
    {
     "data": {
      "image/png": "[encoded data removed]",
      "text/plain": [
       "<Figure size 640x480 with 1 Axes>"
      ]
     },
     "metadata": {},
     "output_type": "display_data"
    }
   ],
   "source": [
    "### Your code starts here ###\n",
    "\n",
    "a, size = 2., 500  # shape and mode\n",
    "### Don't forget to uncomment the following line to make it run! \n",
    "\n",
    "# my_pareto_distribution = \n",
    "# counts, bins = \n",
    "\n",
    "\n",
    "### Your code ends here ###"
   ]
  },
  {
   "cell_type": "markdown",
   "id": "9ad5f96f",
   "metadata": {},
   "source": [
    "Last random distribution we look at, the Poisson distribution.\n",
    "\n",
    "<strong>Exercise 18.</strong> Generate 1500 samples that follow the Poisson distribution with Lambda = 100. Did you forget what lambda is? Review it at:\n",
    "\n",
    "<a>https://es.wikipedia.org/wiki/Distribuci%C3%B3n_de_Poisson</a>\n"
   ]
  },
  {
   "cell_type": "code",
   "execution_count": 98,
   "id": "148d7391",
   "metadata": {},
   "outputs": [
    {
     "data": {
      "text/plain": [
       "<matplotlib.patches.StepPatch at 0x2222d1ec5b0>"
      ]
     },
     "execution_count": 98,
     "metadata": {},
     "output_type": "execute_result"
    },
    {
     "data": {
      "image/png": "[encoded data removed]",
      "text/plain": [
       "<Figure size 640x480 with 1 Axes>"
      ]
     },
     "metadata": {},
     "output_type": "display_data"
    }
   ],
   "source": [
    "### Your code starts here ###\n",
    "### Don't forget to uncomment the following line to make it run! \n",
    "l,size = 100,1500\n",
    "\n",
    "# my_poisson_distribution = \n",
    "\n",
    "# counts, bins = \n",
    "\n",
    "### Your code ends here ###\n",
    "\n",
    "plt.stairs(counts, bins)"
   ]
  },
  {
   "cell_type": "markdown",
   "id": "d0e07f01",
   "metadata": {},
   "source": [
    "Let's run the code of the following cell several times. You may check out that you get different numbers.\n",
    "It's obvious, it's random distribution!"
   ]
  },
  {
   "cell_type": "code",
   "execution_count": 100,
   "id": "cbed7953",
   "metadata": {},
   "outputs": [
    {
     "name": "stdout",
     "output_type": "stream",
     "text": [
      "[ 0.43151874  0.01930612  0.37195378 -1.63244977  0.24458537 -2.03763449\n",
      " -1.13865983 -1.03930243  0.4960928   0.01283692]\n"
     ]
    }
   ],
   "source": [
    "my_random_array = np.random.randn(10)\n",
    "\n",
    "print(my_random_array)"
   ]
  },
  {
   "cell_type": "markdown",
   "id": "a338c243",
   "metadata": {},
   "source": [
    "Well, in Machine Learning, this behaviour is not always desired. As a matter of fact, almost always it's not desired. In order to check out the performance of a Machine Learning model, it is necessary to prove that the model is stable. Stability means that you obtain almost the same performance when introducing the same dataset as input\n",
    "\n",
    "<strong>Exercise 19.</strong> Fix your random distribution in order to always retrieve the same array of random numbers"
   ]
  },
  {
   "cell_type": "code",
   "execution_count": 102,
   "id": "99769274",
   "metadata": {},
   "outputs": [
    {
     "name": "stdout",
     "output_type": "stream",
     "text": [
      "[ 1.76405235  0.40015721  0.97873798  2.2408932   1.86755799 -0.97727788\n",
      "  0.95008842 -0.15135721 -0.10321885  0.4105985 ]\n"
     ]
    }
   ],
   "source": [
    "### Your code starts here ###\n",
    "\n",
    "# my_random_array\n",
    "\n",
    "### Your code ends here ###\n",
    "\n",
    "print(my_random_array)"
   ]
  },
  {
   "cell_type": "markdown",
   "id": "63f99ced",
   "metadata": {},
   "source": [
    "## 4. Using Numpy"
   ]
  },
  {
   "cell_type": "markdown",
   "id": "b3831384",
   "metadata": {},
   "source": [
    "Ok guys we're ready to start using Numpy as our Linear Algebra tool, first of all we're goint to start with some useful helpers"
   ]
  },
  {
   "cell_type": "markdown",
   "id": "0d808052",
   "metadata": {},
   "source": [
    "### Numpy helpers"
   ]
  },
  {
   "cell_type": "markdown",
   "id": "528c88cf",
   "metadata": {},
   "source": [
    "<strong>Exercise 20.</strong> Figure out the dimension of the matrix shown in the cell below"
   ]
  },
  {
   "cell_type": "code",
   "execution_count": 107,
   "id": "e616cff8",
   "metadata": {},
   "outputs": [
    {
     "data": {
      "text/plain": [
       "(4, 3)"
      ]
     },
     "execution_count": 107,
     "metadata": {},
     "output_type": "execute_result"
    }
   ],
   "source": [
    "my_array = np.array([[1,2,3],[4,5,6],[7,8,9],[10,11,12]])\n",
    "\n",
    "### Your code starts here ###\n",
    "\n",
    "\n",
    "\n",
    "### Your code ends here ###"
   ]
  },
  {
   "cell_type": "markdown",
   "id": "d7951b5b",
   "metadata": {},
   "source": [
    "<strong>Exercise 21.</strong> Figure out the maximum value and the position of the maximum value in the array shown below"
   ]
  },
  {
   "cell_type": "code",
   "execution_count": 117,
   "id": "98c457ec",
   "metadata": {},
   "outputs": [
    {
     "name": "stdout",
     "output_type": "stream",
     "text": [
      "The maximum value of the array is: 81\n",
      "The maximum value of the array is: 7\n"
     ]
    }
   ],
   "source": [
    "my_array = np.array([1,2,3,4,5,6,7,81,9,10,11,12])\n",
    "\n",
    "### Your code starts here ###\n",
    "\n",
    "# max_value = \n",
    "\n",
    "# max_value_position = \n",
    "\n",
    "### Your code ends here ###\n",
    "\n",
    "print(\"The maximum value of the array is: {0:d}\".format(max_value))\n",
    "print(\"The position of the maximum value of the array is: {0:d}\".format(max_value_position))"
   ]
  },
  {
   "cell_type": "markdown",
   "id": "28b06638",
   "metadata": {},
   "source": [
    "<strong>Exercise 22.</strong> Figure out the minimum value and the position of the minimum value in the array shown below"
   ]
  },
  {
   "cell_type": "code",
   "execution_count": 119,
   "id": "a326fc9c",
   "metadata": {},
   "outputs": [
    {
     "name": "stdout",
     "output_type": "stream",
     "text": [
      "The maximum value of the array is: -4\n",
      "The maximum value of the array is: 3\n"
     ]
    }
   ],
   "source": [
    "my_array = np.array([1,2,3,-4,5,6,7,81,9,10,11,12])\n",
    "\n",
    "### Your code starts here ###\n",
    "\n",
    "# min_value = \n",
    "\n",
    "# min_value_position = \n",
    "\n",
    "### Your code ends here ###\n",
    "\n",
    "print(\"The minimum value of the array is: {0:d}\".format(min_value))\n",
    "print(\"The position of the minimum value of the array is: {0:d}\".format(min_value_position))"
   ]
  },
  {
   "cell_type": "markdown",
   "id": "26648b3b",
   "metadata": {},
   "source": [
    "<strong>Exercise 22.</strong> Figure out the shape of the matrix given below and change the number of rows in such a way that the number of columns of the resulting matrix is equal to the number of rows of the given matrix and the number of rows of the resulting matrix is equal to the number of columns of the given matrix"
   ]
  },
  {
   "cell_type": "code",
   "execution_count": 127,
   "id": "a9ad2b65",
   "metadata": {},
   "outputs": [
    {
     "name": "stdout",
     "output_type": "stream",
     "text": [
      "(2, 3)\n",
      "(3, 2)\n"
     ]
    }
   ],
   "source": [
    "my_array = np.array([[1,2,3],[-4,5,6]])\n",
    "\n",
    "print(my_array.shape)\n",
    "\n",
    "### Your code starts here ###\n",
    "\n",
    "# my_new_array = \n",
    "\n",
    "### Your code ends here ###\n",
    "\n",
    "print(my_new_array.shape)"
   ]
  },
  {
   "cell_type": "markdown",
   "id": "9f97d9c5",
   "metadata": {},
   "source": [
    "<strong>Exercise 23.</strong> Check out the type of numbers used in the array attached below"
   ]
  },
  {
   "cell_type": "code",
   "execution_count": 130,
   "id": "d3e67a2e",
   "metadata": {},
   "outputs": [
    {
     "name": "stdout",
     "output_type": "stream",
     "text": [
      "The type of the numbering is: int32 \n"
     ]
    }
   ],
   "source": [
    "my_array = np.array([[1,2,3],[-4,5,6]])\n",
    "\n",
    "### Your code starts here ###\n",
    "\n",
    "\n",
    "\n",
    "### Your code ends here ###"
   ]
  },
  {
   "cell_type": "markdown",
   "id": "97bf1f0a",
   "metadata": {},
   "source": [
    "### Matrix terminology"
   ]
  },
  {
   "cell_type": "markdown",
   "id": "08379bf7",
   "metadata": {},
   "source": [
    "#### Scalars\n",
    "\n",
    "<strong>Exercise 24:</strong> Code a numpy array that contains the number 5 (we call it in Algebra a scalar)"
   ]
  },
  {
   "cell_type": "code",
   "execution_count": 137,
   "id": "f3848046",
   "metadata": {},
   "outputs": [
    {
     "name": "stdout",
     "output_type": "stream",
     "text": [
      "()\n"
     ]
    }
   ],
   "source": [
    "### Your code starts here ###\n",
    "\n",
    "# my_scalar = \n",
    "\n",
    "### Your code ends here ###\n",
    "\n",
    "print(my_scalar.shape)"
   ]
  },
  {
   "cell_type": "markdown",
   "id": "01a23845",
   "metadata": {},
   "source": [
    "#### Vectors\n",
    "\n",
    "<strong>Exercise 25:</strong> Code a numpy array that contains the vector (1,2,3)\n",
    "    "
   ]
  },
  {
   "cell_type": "code",
   "execution_count": 138,
   "id": "acd49ad8",
   "metadata": {},
   "outputs": [
    {
     "name": "stdout",
     "output_type": "stream",
     "text": [
      "(3,)\n"
     ]
    }
   ],
   "source": [
    "### Your code starts here ###\n",
    "\n",
    "# my_vector = \n",
    "\n",
    "### Your code ends here ###\n",
    "\n",
    "print(my_vector.shape)"
   ]
  },
  {
   "cell_type": "markdown",
   "id": "f6de264a",
   "metadata": {},
   "source": [
    "#### Matrix\n",
    "<strong>Exercise 26:</strong> Code a numpy matrix that contains one row and three columns."
   ]
  },
  {
   "cell_type": "code",
   "execution_count": 139,
   "id": "41cd0db0",
   "metadata": {},
   "outputs": [
    {
     "name": "stdout",
     "output_type": "stream",
     "text": [
      "(1, 3)\n"
     ]
    }
   ],
   "source": [
    "### Your code starts here ###\n",
    "\n",
    "# my_vector = \n",
    "\n",
    "### Your code ends here ###\n",
    "\n",
    "print(my_vector.shape)"
   ]
  },
  {
   "cell_type": "markdown",
   "id": "9566ff05",
   "metadata": {},
   "source": [
    "I hope you've got the difference between a vector and a matrix. As you see, the matrix shape specifies the number of columns and rows."
   ]
  },
  {
   "cell_type": "markdown",
   "id": "9fba6d71",
   "metadata": {},
   "source": [
    "### Matrix operations"
   ]
  },
  {
   "cell_type": "markdown",
   "id": "9457fafe",
   "metadata": {},
   "source": [
    "#### Transposing a matrix\n",
    "\n",
    "Common Linear Algebra operation is Matrix transpose.\n",
    "\n",
    "<strong>Exercise 27:</strong> Transpose the given matrix and check if the resulting matrix fits the expected shape\n",
    "\n"
   ]
  },
  {
   "cell_type": "code",
   "execution_count": 142,
   "id": "560945ef",
   "metadata": {},
   "outputs": [
    {
     "name": "stdout",
     "output_type": "stream",
     "text": [
      "Dimensions of the given matrix is: (3, 2)\n",
      "Dimensions of the resulting matrix is: (2, 3)\n"
     ]
    }
   ],
   "source": [
    "my_array = np.array([[1, 2], [3, 4], [5,6]])\n",
    "\n",
    "print(\"Dimensions of the given matrix is: {0:s}\".format(str(my_array.shape)))\n",
    "\n",
    "### Your code starts here ###\n",
    "\n",
    "# my_transposed_array = \n",
    "\n",
    "# new_shape = \n",
    "\n",
    "### Your code ends here ###\n",
    "\n",
    "print(\"Dimensions of the resulting matrix is: {0:s}\".format(str(new_shape)))"
   ]
  },
  {
   "cell_type": "markdown",
   "id": "a1c8fec4",
   "metadata": {},
   "source": [
    "#### Adding Matrices\n",
    "\n",
    "Basic Linear Algebra operation is matrix addition. Let's do our first calculation\n",
    "\n",
    "<strong>Exercise 28:</strong> Add the given matrices A and B\n"
   ]
  },
  {
   "cell_type": "code",
   "execution_count": 144,
   "id": "62d042fd",
   "metadata": {},
   "outputs": [
    {
     "name": "stdout",
     "output_type": "stream",
     "text": [
      "[[4 6]\n",
      " [9 2]\n",
      " [2 7]]\n"
     ]
    }
   ],
   "source": [
    "A = np.array([[1, 2], [3, 4], [5,6]])\n",
    "B = np.array([[3, 4], [6, -2], [-3,1]])\n",
    "\n",
    "### Your code starts here ###\n",
    "\n",
    "# C = \n",
    "\n",
    "### Your code ends here ###\n",
    "\n",
    "print(C)"
   ]
  },
  {
   "cell_type": "markdown",
   "id": "3b661a23",
   "metadata": {},
   "source": [
    "As you can check out in the following link: <a>https://en.wikipedia.org/wiki/Matrix_addition</a> , matrices involved in the additions have to have an equal number of rows and columns.\n",
    "\n",
    "Let's check what happens if matrices dimensions don't match.\n",
    "\n",
    "<strong>Exercise 29:</strong> Add the given matrices A + B (check out if your consider, matrices dimensions)\n"
   ]
  },
  {
   "cell_type": "code",
   "execution_count": 152,
   "id": "f4f616f1",
   "metadata": {},
   "outputs": [
    {
     "name": "stdout",
     "output_type": "stream",
     "text": [
      "[[ 4  5]\n",
      " [ 9 10]\n",
      " [ 2  3]]\n",
      "Dimensions of the resulting matrix is: (3, 2)\n"
     ]
    }
   ],
   "source": [
    "A = np.array([[1, 2], \n",
    "              [3, 4], \n",
    "              [5,6]])\n",
    "B = np.array([[3], \n",
    "              [6], \n",
    "              [-3]])\n",
    "\n",
    "### Your code starts here ###\n",
    "\n",
    "# C = \n",
    "\n",
    "### Your code ends here ###\n",
    "\n",
    "print(C)\n",
    "print(\"Dimensions of the resulting matrix is: {0:s}\".format(str(C.shape)))"
   ]
  },
  {
   "cell_type": "markdown",
   "id": "1c30da55",
   "metadata": {},
   "source": [
    "Holy cow! It has worked! Numpy has done some stuff for you: <strong>broadcasting.</strong> \n",
    "The term broadcasting describes how NumPy treats arrays with different shapes during arithmetic operations. The smaller array is “broadcast” across the larger array so that they have compatible shapes. It does this without making needless copies of data and usually leads to efficient algorithm implementations. "
   ]
  },
  {
   "cell_type": "markdown",
   "id": "179c7a01",
   "metadata": {},
   "source": [
    "Broadcasting is a powerful tool, but sometimes it can be a double-edge sword. I encourage from now on to be aware of the matrix dimensions you're dealing with. Take a while to read carefully Numpy broadcasting rules on the following link:\n",
    "<a>https://numpy.org/doc/stable/user/basics.broadcasting.html</a>"
   ]
  },
  {
   "cell_type": "markdown",
   "id": "f901853a",
   "metadata": {},
   "source": [
    "<strong>Exercise 30:</strong> Subtract the given matrices A - B (check out if your consider, matrices dimensions)"
   ]
  },
  {
   "cell_type": "code",
   "execution_count": 150,
   "id": "65a9221d",
   "metadata": {},
   "outputs": [
    {
     "name": "stdout",
     "output_type": "stream",
     "text": [
      "[[-2 -1]\n",
      " [ 0  1]\n",
      " [ 2  3]]\n",
      "Dimensions of the resulting matrix is: (3, 2)\n"
     ]
    }
   ],
   "source": [
    "A = np.array([[1, 2], \n",
    "              [3, 4], \n",
    "              [5,6]])\n",
    "B = np.array(3)\n",
    "\n",
    "### Your code starts here ###\n",
    "\n",
    "# C = \n",
    "\n",
    "### Your code ends here ###\n",
    "\n",
    "print(C)\n",
    "print(\"Dimensions of the resulting matrix is: {0:s}\".format(str(C.shape)))"
   ]
  },
  {
   "cell_type": "markdown",
   "id": "108c92bc",
   "metadata": {},
   "source": [
    "You've seen another case of broadcasting. Numpy has taken the scalar 3 and it has set up a matrix that matches the dimensions of matrix A..."
   ]
  },
  {
   "cell_type": "markdown",
   "id": "9ab68901",
   "metadata": {},
   "source": [
    "You can use classic math simbols for addtion and subtraction. \n",
    "\n",
    "<strong>Exercise 31:</strong> Use the traditional math simbols to add A and B and to subtract A to B."
   ]
  },
  {
   "cell_type": "code",
   "execution_count": 154,
   "id": "52bb580c",
   "metadata": {},
   "outputs": [
    {
     "name": "stdout",
     "output_type": "stream",
     "text": [
      "[[ 7  4  8]\n",
      " [-2  7 -4]\n",
      " [ 7  7 -4]]\n",
      "[[-5  0  0]\n",
      " [ 8  1 -2]\n",
      " [ 3  5  0]]\n"
     ]
    }
   ],
   "source": [
    "A = np.array([[1, 2,  4], \n",
    "              [3, 4, -3], \n",
    "              [5, 6, -2]])\n",
    "\n",
    "B = np.array([[6,  2,  4], \n",
    "              [-5, 3, -1], \n",
    "              [2,  1, -2]])\n",
    "\n",
    "### Your code starts here ###\n",
    "\n",
    "# C = \n",
    "\n",
    "# D = \n",
    "\n",
    "### Your code ends here ###\n",
    "\n",
    "print(C)\n",
    "print(D)"
   ]
  },
  {
   "cell_type": "markdown",
   "id": "88d12657",
   "metadata": {},
   "source": [
    "#### Multiplying Matrices"
   ]
  },
  {
   "cell_type": "markdown",
   "id": "e2c2ef40",
   "metadata": {},
   "source": [
    "There are two operations that in Linear Algebra are classified as Matrix multiplications: \n",
    "* Element-wise product\n",
    "* Dot product\n",
    "\n",
    "<strong>Exercise 32:</strong> Do the element-wise product between matrix A and B\n"
   ]
  },
  {
   "cell_type": "code",
   "execution_count": 156,
   "id": "7d072652",
   "metadata": {},
   "outputs": [
    {
     "name": "stdout",
     "output_type": "stream",
     "text": [
      "[[  6   4  16]\n",
      " [-15  12   3]\n",
      " [ 10   6   4]]\n"
     ]
    }
   ],
   "source": [
    "A = np.array([[1, 2,  4], \n",
    "              [3, 4, -3], \n",
    "              [5, 6, -2]])\n",
    "\n",
    "B = np.array([[6,  2,  4], \n",
    "              [-5, 3, -1], \n",
    "              [2,  1, -2]])\n",
    "\n",
    "### Your code starts here ###\n",
    "\n",
    "# C = \n",
    "\n",
    "### Your code ends here ###\n",
    "\n",
    "print(C)"
   ]
  },
  {
   "cell_type": "markdown",
   "id": "9dbce966",
   "metadata": {},
   "source": [
    "<strong>Exercise 33:</strong> Do the dot product between matrix A and B"
   ]
  },
  {
   "cell_type": "code",
   "execution_count": 158,
   "id": "fcdf6cd8",
   "metadata": {},
   "outputs": [
    {
     "name": "stdout",
     "output_type": "stream",
     "text": [
      "[[ 4 12 -6]\n",
      " [-8 15 14]\n",
      " [-4 26 18]]\n"
     ]
    }
   ],
   "source": [
    "A = np.array([[1, 2,  4], \n",
    "              [3, 4, -3], \n",
    "              [5, 6, -2]])\n",
    "\n",
    "B = np.array([[6,  2,  4], \n",
    "              [-5, 3, -1], \n",
    "              [2,  1, -2]])\n",
    "\n",
    "### Your code starts here ###\n",
    "\n",
    "# C = \n",
    "\n",
    "### Your code ends here ###\n",
    "\n",
    "print(C)"
   ]
  },
  {
   "cell_type": "markdown",
   "id": "c0142fe0",
   "metadata": {},
   "source": [
    "Does Numpy broadcasting work in Matrix multiplication? Let's check it"
   ]
  },
  {
   "cell_type": "markdown",
   "id": "6c7ae476",
   "metadata": {},
   "source": [
    "<strong>Exercise 34:</strong> Do the element-wise product between matrix A and B"
   ]
  },
  {
   "cell_type": "code",
   "execution_count": 161,
   "id": "bbf3146b",
   "metadata": {},
   "outputs": [
    {
     "name": "stdout",
     "output_type": "stream",
     "text": [
      "[[  6   4  16]\n",
      " [ 18   8 -12]\n",
      " [ 30  12  -8]]\n"
     ]
    }
   ],
   "source": [
    "A = np.array([[1, 2,  4], \n",
    "              [3, 4, -3], \n",
    "              [5, 6, -2]])\n",
    "\n",
    "B = np.array([[6,  2,  4]])\n",
    "\n",
    "\n",
    "### Your code starts here ###\n",
    "\n",
    "# C = \n",
    "\n",
    "### Your code ends here ###\n",
    "\n",
    "print(C)            "
   ]
  },
  {
   "cell_type": "markdown",
   "id": "7f11fe06",
   "metadata": {},
   "source": [
    "<strong>Exercise 35:</strong> Do the dot product between matrix A and B"
   ]
  },
  {
   "cell_type": "code",
   "execution_count": 169,
   "id": "3ebe32f6",
   "metadata": {},
   "outputs": [
    {
     "name": "stdout",
     "output_type": "stream",
     "text": [
      "shapes (3,3) and (1,3) not aligned: 3 (dim 1) != 1 (dim 0)\n"
     ]
    }
   ],
   "source": [
    "A = np.array([[1, 2,  4], \n",
    "              [3, 4, -3], \n",
    "              [5, 6, -2]])\n",
    "\n",
    "B = np.array([[6,  2,  4]])\n",
    "\n",
    "\n",
    "### Your code starts here ###\n",
    "\n",
    "\n",
    "### Your code ends here ###\n",
    "        "
   ]
  },
  {
   "cell_type": "markdown",
   "id": "94a838b2",
   "metadata": {},
   "source": [
    "It seems that the dot product doesn't work if the dimensions of the matrices don't follow the rules.\n",
    "\n",
    "Please check the this link to understand <a> https://en.wikipedia.org/wiki/Dot_product </a>\n",
    "\n",
    "Learn it by heart! Matrix Dot product doesn't have the conmutative property. The number of columns of the first matrix has to match the number of columns of the second matrix"
   ]
  },
  {
   "cell_type": "markdown",
   "id": "d03a0fdd",
   "metadata": {},
   "source": [
    "#### Matrix Division\n",
    "\n",
    "<strong>Exercise 36: </strong>Do the element-wise division between matrix A and B\n"
   ]
  },
  {
   "cell_type": "code",
   "execution_count": 182,
   "id": "832719e4",
   "metadata": {},
   "outputs": [
    {
     "name": "stdout",
     "output_type": "stream",
     "text": [
      "[ 5.         13.          7.14285714  7.16666667]\n"
     ]
    }
   ],
   "source": [
    "A = np.array([25, 26, 50, 43])\n",
    "B = np.array([5,  2,  7,  6])\n",
    "\n",
    "### Your code starts here ###\n",
    "\n",
    "# C =\n",
    "\n",
    "### Your code ends here ###\n",
    "\n",
    "print(C)"
   ]
  },
  {
   "cell_type": "markdown",
   "id": "41eb6030",
   "metadata": {},
   "source": [
    "<strong>Exercise 37:</strong> Do the floor element-wise division between matrix A and B"
   ]
  },
  {
   "cell_type": "code",
   "execution_count": 183,
   "id": "95f0e164",
   "metadata": {},
   "outputs": [
    {
     "name": "stdout",
     "output_type": "stream",
     "text": [
      "[ 5 13  7  7]\n"
     ]
    }
   ],
   "source": [
    "A = np.array([25, 26, 50, 43])\n",
    "B = np.array([5,  2,  7,  6])\n",
    "\n",
    "### Your code starts here ###\n",
    "\n",
    "# C = \n",
    "\n",
    "### Your code ends here ###\n",
    "\n",
    "print(C)"
   ]
  },
  {
   "cell_type": "markdown",
   "id": "5de9af98",
   "metadata": {},
   "source": [
    "#### Matrix Exponentiation\n",
    "\n",
    "<strong>Exercise 38: </strong>Raise Matrix A to the power of Matrix B"
   ]
  },
  {
   "cell_type": "code",
   "execution_count": 185,
   "id": "e6761eeb",
   "metadata": {},
   "outputs": [
    {
     "name": "stdout",
     "output_type": "stream",
     "text": [
      "[ 32  64 128 256]\n"
     ]
    }
   ],
   "source": [
    "A = np.array([2, 2, 2, 2])\n",
    "B = np.array([5, 6, 7, 8])\n",
    "\n",
    "### Your code starts here ###\n",
    "\n",
    "# C = \n",
    "\n",
    "### Your code ends here ###\n",
    "\n",
    "print (C)"
   ]
  },
  {
   "cell_type": "markdown",
   "id": "8817039c",
   "metadata": {},
   "source": [
    "#### Matrix Trace\n",
    "\n",
    "The trace is sum of the values placed in the diagonal of a square matrix. \n",
    "\n",
    "<strong>Exercise 39:</strong> find out the the trace of the given matrix A\n"
   ]
  },
  {
   "cell_type": "code",
   "execution_count": 174,
   "id": "7442d9e0",
   "metadata": {},
   "outputs": [
    {
     "name": "stdout",
     "output_type": "stream",
     "text": [
      "The trace of the Matrix is: 3.000\n"
     ]
    }
   ],
   "source": [
    "A = np.array([[1, 2,  4], \n",
    "              [3, 4, -3], \n",
    "              [5, 6, -2]])\n",
    "\n",
    "### Your code starts here ###\n",
    "\n",
    "# trace = \n",
    "\n",
    "### Your code ends here ###\n",
    "\n",
    "print(\"The trace of the Matrix is: {0:.3f}\".format(trace))"
   ]
  },
  {
   "cell_type": "markdown",
   "id": "ad13bdf8",
   "metadata": {},
   "source": [
    "### Inserting and deleting elements to a Matrix"
   ]
  },
  {
   "cell_type": "markdown",
   "id": "55979a10",
   "metadata": {},
   "source": [
    "<strong>Exercise 40: </strong> set a Vector A with the first ten numbers from 0 to 9 and:\n",
    " * Set up Matrix B inserting the number 50 as the first element of the vector\n",
    " * Set up Matrix C inserting the number 50 as the last element of the vector\n",
    " * Set up Matrix D inserting the number 50 as the element in the position 4\n",
    "    "
   ]
  },
  {
   "cell_type": "code",
   "execution_count": 202,
   "id": "c1bfbfb1",
   "metadata": {},
   "outputs": [
    {
     "name": "stdout",
     "output_type": "stream",
     "text": [
      "[0 1 2 3 4 5 6 7 8 9] is the Matrix A with the first ten numbers (from 0 to 9)\n",
      "[50  0  1  2  3  4  5  6  7  8  9] is the Matrix B with the number 50 as the first element of the vector\n",
      "[ 0  1  2  3  4  5  6  7  8  9 50] is the Matrix C with the number 50 as the last element of the vector\n",
      "[ 0  1  2 50  3  4  5  6  7  8  9] is the Matrix D with the number 50 as the fourth element of the vector\n"
     ]
    }
   ],
   "source": [
    "### Your code starts here ###\n",
    "\n",
    "# A = \n",
    "\n",
    "# B = \n",
    "\n",
    "# C = \n",
    "\n",
    "# D = \n",
    "\n",
    "### Your ends ends here ###\n",
    "\n",
    "print(\"{0:s} is the Matrix A with the first ten numbers (from 0 to 9)\".format(str(A)))\n",
    "print(\"{0:s} is the Matrix B with the number 50 as the first element of the vector\".format(str(B)))\n",
    "print(\"{0:s} is the Matrix C with the number 50 as the last element of the vector\".format(str(C)))\n",
    "print(\"{0:s} is the Matrix D with the number 50 as the fourth element of the vector\".format(str(D)))"
   ]
  },
  {
   "cell_type": "markdown",
   "id": "327725fe",
   "metadata": {},
   "source": [
    "<strong>Exercise 41: </strong> set up a Vector A with the first ten numbers from 0 to 9 and delete the number 5 and the number 7"
   ]
  },
  {
   "cell_type": "code",
   "execution_count": 203,
   "id": "12413694",
   "metadata": {},
   "outputs": [
    {
     "name": "stdout",
     "output_type": "stream",
     "text": [
      "[0 1 2 3 4 6 8 9] is the resulting matrix after deleting number 5 and number 7\n"
     ]
    }
   ],
   "source": [
    "### Your code starts here ###\n",
    "\n",
    "# A = \n",
    "\n",
    "# B = \n",
    "\n",
    "### Your code ends here ###\n",
    "\n",
    "print(\"{0:s} is the resulting matrix after deleting number 5 and number 7\".format(str(B)))"
   ]
  },
  {
   "cell_type": "markdown",
   "id": "f50c97fb",
   "metadata": {},
   "source": [
    "<strong>Exercise 42: </strong>Set up a Vector A with the first ten numbers from 0 to 9. Reshape the vector to convert it to a Matrix with two rows and 5 columns and delete the last column\n"
   ]
  },
  {
   "cell_type": "code",
   "execution_count": 209,
   "id": "d56d9dda",
   "metadata": {},
   "outputs": [
    {
     "name": "stdout",
     "output_type": "stream",
     "text": [
      "[0 1 2 3 4 5 6 7 8 9] is A, the original vector\n",
      "\n",
      "[[0 1 2 3 4]\n",
      " [5 6 7 8 9]] is B, the resized vector with two rows and one column.\n",
      "\n",
      "[[0 1 2 3]\n",
      " [5 6 7 8]] is C, the resulting vector after deleteing last column to B\n"
     ]
    }
   ],
   "source": [
    "### Your code starts here ###\n",
    "\n",
    "# A = \n",
    "\n",
    "# B = \n",
    "\n",
    "# C =\n",
    "\n",
    "### Your code ends here ###\n",
    "\n",
    "print(\"{0:s} is A, the original vector\\n\".format(str(A)))\n",
    "print(\"{0:s} is B, the resized vector with two rows and one column.\\n\".format(str(B)))\n",
    "print(\"{0:s} is C, the resulting vector after deleteing last column to B\".format(str(C)))"
   ]
  },
  {
   "cell_type": "markdown",
   "id": "d546c144",
   "metadata": {},
   "source": [
    "### Matrix Indexing and Slicing"
   ]
  },
  {
   "cell_type": "markdown",
   "id": "25354e9e",
   "metadata": {},
   "source": [
    "Maybe this section will be the most used one in your Machine Learning career. Let's dive into it!\n",
    "\n",
    "#### One-dimensional arrays\n",
    "\n",
    "<strong>Exercise 43:</strong> Set up a Vector A with the first twenty numbers from 0 to 19 and extract the number in position 5 of the array\n"
   ]
  },
  {
   "cell_type": "code",
   "execution_count": 219,
   "id": "d842e53e",
   "metadata": {},
   "outputs": [
    {
     "name": "stdout",
     "output_type": "stream",
     "text": [
      "4\n"
     ]
    }
   ],
   "source": [
    "### Your code starts here ###\n",
    "\n",
    "# fith_position = \n",
    "\n",
    "### Your code ends here ###\n",
    "\n",
    "print(fith_position)"
   ]
  },
  {
   "cell_type": "markdown",
   "id": "46d0ec24",
   "metadata": {},
   "source": [
    "Friendly reminder! arange method starts with number 0!"
   ]
  },
  {
   "cell_type": "markdown",
   "id": "e6dab2ed",
   "metadata": {},
   "source": [
    "<strong>Exercise 44:</strong> Set up a Vector A with the first twenty numbers from 0 to 19 and extract the numbers from position 5 to position 10 of the array"
   ]
  },
  {
   "cell_type": "code",
   "execution_count": 220,
   "id": "0c3c3f58",
   "metadata": {},
   "outputs": [
    {
     "name": "stdout",
     "output_type": "stream",
     "text": [
      "[4 5 6 7 8]\n"
     ]
    }
   ],
   "source": [
    "### Your code starts here ###\n",
    "\n",
    "# A = \n",
    "\n",
    "# fith_position_array = \n",
    "\n",
    "### Your code ends here ###\n",
    "\n",
    "print(fith_position_array)"
   ]
  },
  {
   "cell_type": "markdown",
   "id": "610178ff",
   "metadata": {},
   "source": [
    "<strong>Exercise 45:</strong> Set up a Vector A with the first twenty numbers from 0 to 19 and extract the numbers from position 15 to the end of the array"
   ]
  },
  {
   "cell_type": "code",
   "execution_count": 229,
   "id": "5c94333b",
   "metadata": {},
   "outputs": [
    {
     "name": "stdout",
     "output_type": "stream",
     "text": [
      "[14 15 16 17 18 19]\n"
     ]
    }
   ],
   "source": [
    "### Your code starts here ###\n",
    "\n",
    "# A = \n",
    "\n",
    "# fith_position_array = \n",
    "\n",
    "### Your code ends here ###\n",
    "\n",
    "print(fith_position_array)"
   ]
  },
  {
   "cell_type": "markdown",
   "id": "6e7d1407",
   "metadata": {},
   "source": [
    "<strong>Exercise 46:</strong> Set up a Vector A with the first twenty numbers from 0 to 19 and extract the numbers from position 15 to the end of the array but excluding the last element of the array"
   ]
  },
  {
   "cell_type": "code",
   "execution_count": 231,
   "id": "3a1a7165",
   "metadata": {},
   "outputs": [
    {
     "name": "stdout",
     "output_type": "stream",
     "text": [
      "[14 15 16 17 18]\n"
     ]
    }
   ],
   "source": [
    "### Your code starts here ###\n",
    "\n",
    "# A = \n",
    "\n",
    "# fith_position_array = \n",
    "\n",
    "### Your code ends here ###\n",
    "\n",
    "print(fith_position_array)"
   ]
  },
  {
   "cell_type": "markdown",
   "id": "300d37e2",
   "metadata": {},
   "source": [
    "<strong>Exercise 46:</strong> Set up a Vector A with the first ten numbers and inverse the order of all elements"
   ]
  },
  {
   "cell_type": "code",
   "execution_count": 233,
   "id": "db417a87",
   "metadata": {},
   "outputs": [
    {
     "name": "stdout",
     "output_type": "stream",
     "text": [
      "[9 8 7 6 5 4 3 2 1 0]\n"
     ]
    }
   ],
   "source": [
    "### Your code starts here ###\n",
    "\n",
    "# A = \n",
    "\n",
    "# inverted_array = \n",
    "\n",
    "### Your code ends here ###\n",
    "\n",
    "print(inverted_array)"
   ]
  },
  {
   "cell_type": "markdown",
   "id": "dc423c86",
   "metadata": {},
   "source": [
    "<strong>Exercise 47:</strong> Set up a Vector A with the first ten numbers and modify the elements in position 6,7 and 8 with the number 100,101,102"
   ]
  },
  {
   "cell_type": "code",
   "execution_count": 236,
   "id": "23bc54b6",
   "metadata": {},
   "outputs": [
    {
     "name": "stdout",
     "output_type": "stream",
     "text": [
      "[  0   1   2   3   4 100 101 102   8   9]\n"
     ]
    }
   ],
   "source": [
    "### Your code starts here ###\n",
    "\n",
    "# A = \n",
    "\n",
    "# modifying_array = \n",
    "\n",
    "\n",
    "\n",
    "### Your code ends here ###\n",
    "\n",
    "print(A)"
   ]
  },
  {
   "cell_type": "markdown",
   "id": "392d462d",
   "metadata": {},
   "source": [
    "### Multi-dimension Matrix Indexing and Slicing\n",
    "\n",
    "<strong>Exercise 48:</strong> Set up a Vector A with the first 16 numbers and reshape a it to a (4,4) matrix.\n",
    " * Extract the number in row 1, column 2\n",
    " * Extract the first column\n",
    " * Extract the last row\n",
    " * Extract the third column"
   ]
  },
  {
   "cell_type": "code",
   "execution_count": 242,
   "id": "6ed47a94",
   "metadata": {},
   "outputs": [
    {
     "name": "stdout",
     "output_type": "stream",
     "text": [
      "5 is the number in row 1, column 2 of Matrix A\n",
      "[ 0  4  8 12] is the first column of Matrix A\n",
      "[12 13 14 15] is the last row of Matrix A\n",
      "[ 2  6 10 14] is the third column of Matrix A\n"
     ]
    }
   ],
   "source": [
    "### Your code starts here ###\n",
    "\n",
    "# A = \n",
    "\n",
    "# B = \n",
    "# C = \n",
    "# D = \n",
    "# E = \n",
    "\n",
    "### Your code ends here ###\n",
    "\n",
    "print(\"{0:s} is the number in row 1, column 2 of Matrix A\".format(str(B)))\n",
    "print(\"{0:s} is the first column of Matrix A\".format(str(C)))\n",
    "print(\"{0:s} is the last row of Matrix A\".format(str(D)))\n",
    "print(\"{0:s} is the third column of Matrix A\".format(str(E)))"
   ]
  },
  {
   "cell_type": "markdown",
   "id": "e22b4c7b",
   "metadata": {},
   "source": [
    "### Joining Matrices"
   ]
  },
  {
   "cell_type": "markdown",
   "id": "16de2b89",
   "metadata": {},
   "source": [
    "<strong>Exercise 49:</strong> Set up a Matrix A (4,4) dimensional filled up with the first 16 numbers (including 0). Then set up a Matrix B (4,4) with the next 16 numbers.\n",
    "\n",
    "Then, do the following tasks:\n",
    " * Stack vertically A above B\n",
    " * Stack vertically B above A\n",
    " * Stack horizontally A then B\n",
    " \n",
    "    "
   ]
  },
  {
   "cell_type": "code",
   "execution_count": 253,
   "id": "f9e50592",
   "metadata": {},
   "outputs": [
    {
     "name": "stdout",
     "output_type": "stream",
     "text": [
      "[[ 0  1  2  3]\n",
      " [ 4  5  6  7]\n",
      " [ 8  9 10 11]\n",
      " [12 13 14 15]\n",
      " [16 17 18 19]\n",
      " [20 21 22 23]\n",
      " [24 25 26 27]\n",
      " [28 29 30 31]] is the vertically stacked matrix (A above B)\n",
      "\n",
      "[[16 17 18 19]\n",
      " [20 21 22 23]\n",
      " [24 25 26 27]\n",
      " [28 29 30 31]\n",
      " [ 0  1  2  3]\n",
      " [ 4  5  6  7]\n",
      " [ 8  9 10 11]\n",
      " [12 13 14 15]] is the vertically stacked matrix (B above A)\n",
      "\n",
      "[[ 0  1  2  3 16 17 18 19]\n",
      " [ 4  5  6  7 20 21 22 23]\n",
      " [ 8  9 10 11 24 25 26 27]\n",
      " [12 13 14 15 28 29 30 31]] is the horizontally stacked matrix A leftmost matrix\n"
     ]
    }
   ],
   "source": [
    "### Your code starts here ###\n",
    "\n",
    "# A = \n",
    "# B = \n",
    "\n",
    "# C = \n",
    "# D = \n",
    "# E = \n",
    "\n",
    "### Your code ends here ###\n",
    "\n",
    "print(\"{0:s} is the vertically stacked matrix (A above B)\\n\".format(str(C)))\n",
    "print(\"{0:s} is the vertically stacked matrix (B above A)\\n\".format(str(D)))\n",
    "print(\"{0:s} is the horizontally stacked matrix A leftmost matrix\".format(str(E)))"
   ]
  },
  {
   "cell_type": "markdown",
   "id": "a7863c48",
   "metadata": {},
   "source": [
    "### Not a Number\n",
    "Every single Machine Learning engineer will deal with NaN (Not a Number) values. Numpy generates this tedious value when it cannot calculate the result of an operation\n",
    "This is just to show you how Numpy works with NaN\n"
   ]
  },
  {
   "cell_type": "markdown",
   "id": "e8c3c7ff",
   "metadata": {},
   "source": [
    "<strong>Exercise 50:</strong> Check out results of the following expressions:\n"
   ]
  },
  {
   "cell_type": "code",
   "execution_count": 257,
   "id": "7cfa7f1e",
   "metadata": {},
   "outputs": [
    {
     "name": "stdout",
     "output_type": "stream",
     "text": [
      "nan\n",
      "False\n",
      "False\n",
      "nan\n",
      "True\n"
     ]
    }
   ],
   "source": [
    "print(0 * np.nan)\n",
    "print(np.nan == np.nan)\n",
    "print(np.inf > np.nan)\n",
    "print(np.nan - np.nan)\n",
    "print(np.nan in set([np.nan]))"
   ]
  },
  {
   "cell_type": "markdown",
   "id": "310af32b",
   "metadata": {},
   "source": [
    "## 5. Challenging your Numpy Skills"
   ]
  },
  {
   "attachments": {
    "numpy_51.png": {
     "image/png": "[encoded data removed]"
    }
   },
   "cell_type": "markdown",
   "id": "fa2c9b38",
   "metadata": {},
   "source": [
    "<strong>Exercise 51: </strong> Given the Matrices A and B, compute the formula shown below.\n",
    "\n",
    "![numpy_51.png](attachment:numpy_51.png)\n"
   ]
  },
  {
   "cell_type": "code",
   "execution_count": 263,
   "id": "7f21785d",
   "metadata": {},
   "outputs": [
    {
     "name": "stdout",
     "output_type": "stream",
     "text": [
      "[[-1.5 -1.5 -1.5]\n",
      " [-1.5 -1.5 -1.5]\n",
      " [-1.5 -1.5 -1.5]]\n"
     ]
    }
   ],
   "source": [
    "A = np.ones((3,3))*1\n",
    "B = np.ones((3,3))*2\n",
    "\n",
    "### Your code starts here ###\n",
    "\n",
    "\n",
    "### Your code ends here ###\n",
    "\n",
    "print(solution)"
   ]
  },
  {
   "cell_type": "markdown",
   "id": "01c8f3ab",
   "metadata": {},
   "source": [
    "<strong>Exercise 52: </strong> Set up a random (3,3) array and extract the integer part of the elements. Provide at least three ways to reach the solution"
   ]
  },
  {
   "cell_type": "code",
   "execution_count": 271,
   "id": "77b29ee5",
   "metadata": {},
   "outputs": [
    {
     "name": "stdout",
     "output_type": "stream",
     "text": [
      "[[3. 3. 5.]\n",
      " [4. 9. 1.]\n",
      " [2. 1. 6.]]\n",
      "[[3. 3. 5.]\n",
      " [4. 9. 1.]\n",
      " [2. 1. 6.]]\n",
      "[[3 3 5]\n",
      " [4 9 1]\n",
      " [2 1 6]]\n"
     ]
    }
   ],
   "source": [
    "### Your code starts here ###\n",
    "\n",
    "### Your code ends here ###"
   ]
  },
  {
   "cell_type": "markdown",
   "id": "d1a5f347",
   "metadata": {},
   "source": [
    "<strong>Exercise 53 </strong> Create a 5x5 matrix with row values ranging from 0 to 4"
   ]
  },
  {
   "cell_type": "code",
   "execution_count": 272,
   "id": "b003001d",
   "metadata": {},
   "outputs": [
    {
     "name": "stdout",
     "output_type": "stream",
     "text": [
      "[[0. 1. 2. 3. 4.]\n",
      " [0. 1. 2. 3. 4.]\n",
      " [0. 1. 2. 3. 4.]\n",
      " [0. 1. 2. 3. 4.]\n",
      " [0. 1. 2. 3. 4.]]\n"
     ]
    }
   ],
   "source": [
    "### Your code starts here ###\n",
    "\n",
    "\n",
    "\n",
    "### Your code ends here ###\n",
    "\n",
    "print(A)"
   ]
  },
  {
   "cell_type": "markdown",
   "id": "1c790209",
   "metadata": {},
   "source": [
    "<strong>Exercise 54: </strong> Consider a random 10x2 matrix representing cartesian coordinates, convert them to polar coordinates"
   ]
  },
  {
   "cell_type": "code",
   "execution_count": 278,
   "id": "e3ba553a",
   "metadata": {},
   "outputs": [
    {
     "name": "stdout",
     "output_type": "stream",
     "text": [
      "[[0.65320082 0.65210327]\n",
      " [0.43141844 0.8965466 ]\n",
      " [0.36756187 0.43586493]\n",
      " [0.89192336 0.80619399]\n",
      " [0.70388858 0.10022689]\n",
      " [0.91948261 0.7142413 ]\n",
      " [0.99884701 0.1494483 ]\n",
      " [0.86812606 0.16249293]\n",
      " [0.61555956 0.12381998]\n",
      " [0.84800823 0.80731896]] is the Matrix with the Cartesian coordinates\n",
      "\n",
      "[0.9229897  0.99494606 0.57015784 1.20227951 0.71098844 1.1642976\n",
      " 1.00996541 0.88320258 0.62788929 1.17084664] is the Matrix with the radius of the Polar Coordinates\n",
      "\n",
      "[0.78455733 1.12230132 0.87020889 0.73495604 0.14143949 0.66042497\n",
      " 0.14851909 0.18503557 0.19850136 0.76082231] is the Matrix with the angle of the Polar Coordinates\n",
      "\n"
     ]
    }
   ],
   "source": [
    "### Your code starts here ###\n",
    "\n",
    "\n",
    "\n",
    "### Your code ends here ###\n",
    "\n",
    "print(\"{0:s} is the Matrix with the Cartesian coordinates\\n\".format(str(A)))\n",
    "print(\"{0:s} is the Matrix with the radius of the Polar Coordinates\\n\".format(str(R)))\n",
    "print(\"{0:s} is the Matrix with the angle of the Polar Coordinates\\n\".format(str(T)))"
   ]
  },
  {
   "cell_type": "markdown",
   "id": "44f08141",
   "metadata": {},
   "source": [
    "<strong>Exercise 55: </strong> Create random vector of size 10 and replace the maximum value by 0"
   ]
  },
  {
   "cell_type": "code",
   "execution_count": 281,
   "id": "9df73e11",
   "metadata": {},
   "outputs": [
    {
     "name": "stdout",
     "output_type": "stream",
     "text": [
      "[0.35997806 0.72999056 0.17162968 0.52103661 0.05433799 0.19999652\n",
      " 0.01852179 0.         0.22392469 0.34535168]\n"
     ]
    }
   ],
   "source": [
    "### Your code starts here ###\n",
    "\n",
    "\n",
    "### Your code ends here ###\n",
    "\n",
    "print(A)"
   ]
  },
  {
   "cell_type": "code",
   "execution_count": null,
   "id": "9022e108",
   "metadata": {},
   "outputs": [],
   "source": []
  }
 ],
 "metadata": {
  "kernelspec": {
   "display_name": "Python 3 (ipykernel)",
   "language": "python",
   "name": "python3"
  },
  "language_info": {
   "codemirror_mode": {
    "name": "ipython",
    "version": 3
   },
   "file_extension": ".py",
   "mimetype": "text/x-python",
   "name": "python",
   "nbconvert_exporter": "python",
   "pygments_lexer": "ipython3",
   "version": "3.9.5"
  }
 },
 "nbformat": 4,
 "nbformat_minor": 5
}
